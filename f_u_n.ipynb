{
 "cells": [
  {
   "cell_type": "markdown",
   "metadata": {},
   "source": [
    "<center> <h1> salary's doctor</h1></center>"
   ]
  },
  {
   "cell_type": "markdown",
   "metadata": {},
   "source": [
    "<center><img src = 'https://aamc-black.global.ssl.fastly.net/production/media/filer_public_thumbnails/filer_public/01/fa/01fa1e97-0ac5-4967-80d7-262368a9cf99/salaryxmain.jpg__992x558_q85_crop_subsampling-2_upscale.jpg'>"
   ]
  },
  {
   "cell_type": "markdown",
   "metadata": {},
   "source": [
    "____\n",
    "<center>\n",
    "Hi 👋 this data for make analysis on salaries of jobs let's go to have fun ✌️ \n",
    "</center>"
   ]
  },
  {
   "cell_type": "code",
   "execution_count": 1,
   "metadata": {},
   "outputs": [],
   "source": [
    "import pandas as pd\n",
    "import seaborn as sns\n",
    "import matplotlib.pyplot as plt\n",
    "import numpy as np\n",
    "%matplotlib inline\n",
    "import warnings\n",
    "warnings.filterwarnings('ignore')"
   ]
  },
  {
   "cell_type": "markdown",
   "metadata": {},
   "source": [
    "<center><h3>import and Explor data<center/>"
   ]
  },
  {
   "cell_type": "code",
   "execution_count": 2,
   "metadata": {},
   "outputs": [],
   "source": [
    "df = pd.read_csv(r'D:\\Epsilon\\data analysis salaries\\DataAnalyst.csv')"
   ]
  },
  {
   "cell_type": "code",
   "execution_count": 3,
   "metadata": {},
   "outputs": [
    {
     "data": {
      "text/html": [
       "<div>\n",
       "<style scoped>\n",
       "    .dataframe tbody tr th:only-of-type {\n",
       "        vertical-align: middle;\n",
       "    }\n",
       "\n",
       "    .dataframe tbody tr th {\n",
       "        vertical-align: top;\n",
       "    }\n",
       "\n",
       "    .dataframe thead th {\n",
       "        text-align: right;\n",
       "    }\n",
       "</style>\n",
       "<table border=\"1\" class=\"dataframe\">\n",
       "  <thead>\n",
       "    <tr style=\"text-align: right;\">\n",
       "      <th></th>\n",
       "      <th>Unnamed: 0</th>\n",
       "      <th>Job Title</th>\n",
       "      <th>Salary Estimate</th>\n",
       "      <th>Job Description</th>\n",
       "      <th>Rating</th>\n",
       "      <th>Company Name</th>\n",
       "      <th>Location</th>\n",
       "      <th>Headquarters</th>\n",
       "      <th>Size</th>\n",
       "      <th>Founded</th>\n",
       "      <th>Type of ownership</th>\n",
       "      <th>Industry</th>\n",
       "      <th>Sector</th>\n",
       "      <th>Revenue</th>\n",
       "      <th>Competitors</th>\n",
       "      <th>Easy Apply</th>\n",
       "    </tr>\n",
       "  </thead>\n",
       "  <tbody>\n",
       "    <tr>\n",
       "      <th>0</th>\n",
       "      <td>0</td>\n",
       "      <td>Data Analyst, Center on Immigration and Justic...</td>\n",
       "      <td>$37K-$66K (Glassdoor est.)</td>\n",
       "      <td>Are you eager to roll up your sleeves and harn...</td>\n",
       "      <td>3.2</td>\n",
       "      <td>Vera Institute of Justice\\n3.2</td>\n",
       "      <td>New York, NY</td>\n",
       "      <td>New York, NY</td>\n",
       "      <td>201 to 500 employees</td>\n",
       "      <td>1961</td>\n",
       "      <td>Nonprofit Organization</td>\n",
       "      <td>Social Assistance</td>\n",
       "      <td>Non-Profit</td>\n",
       "      <td>$100 to $500 million (USD)</td>\n",
       "      <td>-1</td>\n",
       "      <td>True</td>\n",
       "    </tr>\n",
       "    <tr>\n",
       "      <th>1</th>\n",
       "      <td>1</td>\n",
       "      <td>Quality Data Analyst</td>\n",
       "      <td>$37K-$66K (Glassdoor est.)</td>\n",
       "      <td>Overview\\n\\nProvides analytical and technical ...</td>\n",
       "      <td>3.8</td>\n",
       "      <td>Visiting Nurse Service of New York\\n3.8</td>\n",
       "      <td>New York, NY</td>\n",
       "      <td>New York, NY</td>\n",
       "      <td>10000+ employees</td>\n",
       "      <td>1893</td>\n",
       "      <td>Nonprofit Organization</td>\n",
       "      <td>Health Care Services &amp; Hospitals</td>\n",
       "      <td>Health Care</td>\n",
       "      <td>$2 to $5 billion (USD)</td>\n",
       "      <td>-1</td>\n",
       "      <td>-1</td>\n",
       "    </tr>\n",
       "    <tr>\n",
       "      <th>2</th>\n",
       "      <td>2</td>\n",
       "      <td>Senior Data Analyst, Insights &amp; Analytics Team...</td>\n",
       "      <td>$37K-$66K (Glassdoor est.)</td>\n",
       "      <td>We’re looking for a Senior Data Analyst who ha...</td>\n",
       "      <td>3.4</td>\n",
       "      <td>Squarespace\\n3.4</td>\n",
       "      <td>New York, NY</td>\n",
       "      <td>New York, NY</td>\n",
       "      <td>1001 to 5000 employees</td>\n",
       "      <td>2003</td>\n",
       "      <td>Company - Private</td>\n",
       "      <td>Internet</td>\n",
       "      <td>Information Technology</td>\n",
       "      <td>Unknown / Non-Applicable</td>\n",
       "      <td>GoDaddy</td>\n",
       "      <td>-1</td>\n",
       "    </tr>\n",
       "    <tr>\n",
       "      <th>3</th>\n",
       "      <td>3</td>\n",
       "      <td>Data Analyst</td>\n",
       "      <td>$37K-$66K (Glassdoor est.)</td>\n",
       "      <td>Requisition NumberRR-0001939\\nRemote:Yes\\nWe c...</td>\n",
       "      <td>4.1</td>\n",
       "      <td>Celerity\\n4.1</td>\n",
       "      <td>New York, NY</td>\n",
       "      <td>McLean, VA</td>\n",
       "      <td>201 to 500 employees</td>\n",
       "      <td>2002</td>\n",
       "      <td>Subsidiary or Business Segment</td>\n",
       "      <td>IT Services</td>\n",
       "      <td>Information Technology</td>\n",
       "      <td>$50 to $100 million (USD)</td>\n",
       "      <td>-1</td>\n",
       "      <td>-1</td>\n",
       "    </tr>\n",
       "    <tr>\n",
       "      <th>4</th>\n",
       "      <td>4</td>\n",
       "      <td>Reporting Data Analyst</td>\n",
       "      <td>$37K-$66K (Glassdoor est.)</td>\n",
       "      <td>ABOUT FANDUEL GROUP\\n\\nFanDuel Group is a worl...</td>\n",
       "      <td>3.9</td>\n",
       "      <td>FanDuel\\n3.9</td>\n",
       "      <td>New York, NY</td>\n",
       "      <td>New York, NY</td>\n",
       "      <td>501 to 1000 employees</td>\n",
       "      <td>2009</td>\n",
       "      <td>Company - Private</td>\n",
       "      <td>Sports &amp; Recreation</td>\n",
       "      <td>Arts, Entertainment &amp; Recreation</td>\n",
       "      <td>$100 to $500 million (USD)</td>\n",
       "      <td>DraftKings</td>\n",
       "      <td>True</td>\n",
       "    </tr>\n",
       "  </tbody>\n",
       "</table>\n",
       "</div>"
      ],
      "text/plain": [
       "   Unnamed: 0                                          Job Title  \\\n",
       "0           0  Data Analyst, Center on Immigration and Justic...   \n",
       "1           1                               Quality Data Analyst   \n",
       "2           2  Senior Data Analyst, Insights & Analytics Team...   \n",
       "3           3                                       Data Analyst   \n",
       "4           4                             Reporting Data Analyst   \n",
       "\n",
       "              Salary Estimate  \\\n",
       "0  $37K-$66K (Glassdoor est.)   \n",
       "1  $37K-$66K (Glassdoor est.)   \n",
       "2  $37K-$66K (Glassdoor est.)   \n",
       "3  $37K-$66K (Glassdoor est.)   \n",
       "4  $37K-$66K (Glassdoor est.)   \n",
       "\n",
       "                                     Job Description  Rating  \\\n",
       "0  Are you eager to roll up your sleeves and harn...     3.2   \n",
       "1  Overview\\n\\nProvides analytical and technical ...     3.8   \n",
       "2  We’re looking for a Senior Data Analyst who ha...     3.4   \n",
       "3  Requisition NumberRR-0001939\\nRemote:Yes\\nWe c...     4.1   \n",
       "4  ABOUT FANDUEL GROUP\\n\\nFanDuel Group is a worl...     3.9   \n",
       "\n",
       "                              Company Name      Location  Headquarters  \\\n",
       "0           Vera Institute of Justice\\n3.2  New York, NY  New York, NY   \n",
       "1  Visiting Nurse Service of New York\\n3.8  New York, NY  New York, NY   \n",
       "2                         Squarespace\\n3.4  New York, NY  New York, NY   \n",
       "3                            Celerity\\n4.1  New York, NY    McLean, VA   \n",
       "4                             FanDuel\\n3.9  New York, NY  New York, NY   \n",
       "\n",
       "                     Size  Founded               Type of ownership  \\\n",
       "0    201 to 500 employees     1961          Nonprofit Organization   \n",
       "1        10000+ employees     1893          Nonprofit Organization   \n",
       "2  1001 to 5000 employees     2003               Company - Private   \n",
       "3    201 to 500 employees     2002  Subsidiary or Business Segment   \n",
       "4   501 to 1000 employees     2009               Company - Private   \n",
       "\n",
       "                           Industry                            Sector  \\\n",
       "0                 Social Assistance                        Non-Profit   \n",
       "1  Health Care Services & Hospitals                       Health Care   \n",
       "2                          Internet            Information Technology   \n",
       "3                       IT Services            Information Technology   \n",
       "4               Sports & Recreation  Arts, Entertainment & Recreation   \n",
       "\n",
       "                      Revenue Competitors Easy Apply  \n",
       "0  $100 to $500 million (USD)          -1       True  \n",
       "1      $2 to $5 billion (USD)          -1         -1  \n",
       "2    Unknown / Non-Applicable     GoDaddy         -1  \n",
       "3   $50 to $100 million (USD)          -1         -1  \n",
       "4  $100 to $500 million (USD)  DraftKings       True  "
      ]
     },
     "execution_count": 3,
     "metadata": {},
     "output_type": "execute_result"
    }
   ],
   "source": [
    "df.head()"
   ]
  },
  {
   "cell_type": "code",
   "execution_count": 4,
   "metadata": {},
   "outputs": [],
   "source": [
    "del df['Unnamed: 0']"
   ]
  },
  {
   "cell_type": "code",
   "execution_count": 5,
   "metadata": {},
   "outputs": [
    {
     "name": "stdout",
     "output_type": "stream",
     "text": [
      "<class 'pandas.core.frame.DataFrame'>\n",
      "RangeIndex: 2253 entries, 0 to 2252\n",
      "Data columns (total 15 columns):\n",
      " #   Column             Non-Null Count  Dtype  \n",
      "---  ------             --------------  -----  \n",
      " 0   Job Title          2253 non-null   object \n",
      " 1   Salary Estimate    2253 non-null   object \n",
      " 2   Job Description    2253 non-null   object \n",
      " 3   Rating             2253 non-null   float64\n",
      " 4   Company Name       2252 non-null   object \n",
      " 5   Location           2253 non-null   object \n",
      " 6   Headquarters       2253 non-null   object \n",
      " 7   Size               2253 non-null   object \n",
      " 8   Founded            2253 non-null   int64  \n",
      " 9   Type of ownership  2253 non-null   object \n",
      " 10  Industry           2253 non-null   object \n",
      " 11  Sector             2253 non-null   object \n",
      " 12  Revenue            2253 non-null   object \n",
      " 13  Competitors        2253 non-null   object \n",
      " 14  Easy Apply         2253 non-null   object \n",
      "dtypes: float64(1), int64(1), object(13)\n",
      "memory usage: 264.1+ KB\n"
     ]
    }
   ],
   "source": [
    "df.info()"
   ]
  },
  {
   "cell_type": "code",
   "execution_count": 6,
   "metadata": {},
   "outputs": [
    {
     "data": {
      "text/plain": [
       "Job Title            0\n",
       "Salary Estimate      0\n",
       "Job Description      0\n",
       "Rating               0\n",
       "Company Name         1\n",
       "Location             0\n",
       "Headquarters         0\n",
       "Size                 0\n",
       "Founded              0\n",
       "Type of ownership    0\n",
       "Industry             0\n",
       "Sector               0\n",
       "Revenue              0\n",
       "Competitors          0\n",
       "Easy Apply           0\n",
       "dtype: int64"
      ]
     },
     "execution_count": 6,
     "metadata": {},
     "output_type": "execute_result"
    }
   ],
   "source": [
    "df.isna().sum()"
   ]
  },
  {
   "cell_type": "code",
   "execution_count": 7,
   "metadata": {},
   "outputs": [
    {
     "data": {
      "text/html": [
       "<div>\n",
       "<style scoped>\n",
       "    .dataframe tbody tr th:only-of-type {\n",
       "        vertical-align: middle;\n",
       "    }\n",
       "\n",
       "    .dataframe tbody tr th {\n",
       "        vertical-align: top;\n",
       "    }\n",
       "\n",
       "    .dataframe thead th {\n",
       "        text-align: right;\n",
       "    }\n",
       "</style>\n",
       "<table border=\"1\" class=\"dataframe\">\n",
       "  <thead>\n",
       "    <tr style=\"text-align: right;\">\n",
       "      <th></th>\n",
       "      <th>Rating</th>\n",
       "      <th>Founded</th>\n",
       "    </tr>\n",
       "  </thead>\n",
       "  <tbody>\n",
       "    <tr>\n",
       "      <th>count</th>\n",
       "      <td>2253.000000</td>\n",
       "      <td>2253.000000</td>\n",
       "    </tr>\n",
       "    <tr>\n",
       "      <th>mean</th>\n",
       "      <td>3.160630</td>\n",
       "      <td>1398.522858</td>\n",
       "    </tr>\n",
       "    <tr>\n",
       "      <th>std</th>\n",
       "      <td>1.665228</td>\n",
       "      <td>901.929251</td>\n",
       "    </tr>\n",
       "    <tr>\n",
       "      <th>min</th>\n",
       "      <td>-1.000000</td>\n",
       "      <td>-1.000000</td>\n",
       "    </tr>\n",
       "    <tr>\n",
       "      <th>25%</th>\n",
       "      <td>3.100000</td>\n",
       "      <td>-1.000000</td>\n",
       "    </tr>\n",
       "    <tr>\n",
       "      <th>50%</th>\n",
       "      <td>3.600000</td>\n",
       "      <td>1979.000000</td>\n",
       "    </tr>\n",
       "    <tr>\n",
       "      <th>75%</th>\n",
       "      <td>4.000000</td>\n",
       "      <td>2002.000000</td>\n",
       "    </tr>\n",
       "    <tr>\n",
       "      <th>max</th>\n",
       "      <td>5.000000</td>\n",
       "      <td>2019.000000</td>\n",
       "    </tr>\n",
       "  </tbody>\n",
       "</table>\n",
       "</div>"
      ],
      "text/plain": [
       "            Rating      Founded\n",
       "count  2253.000000  2253.000000\n",
       "mean      3.160630  1398.522858\n",
       "std       1.665228   901.929251\n",
       "min      -1.000000    -1.000000\n",
       "25%       3.100000    -1.000000\n",
       "50%       3.600000  1979.000000\n",
       "75%       4.000000  2002.000000\n",
       "max       5.000000  2019.000000"
      ]
     },
     "execution_count": 7,
     "metadata": {},
     "output_type": "execute_result"
    }
   ],
   "source": [
    "df.describe()"
   ]
  },
  {
   "cell_type": "code",
   "execution_count": 8,
   "metadata": {},
   "outputs": [],
   "source": [
    "df.dropna(inplace = True)"
   ]
  },
  {
   "cell_type": "code",
   "execution_count": 9,
   "metadata": {},
   "outputs": [
    {
     "data": {
      "text/plain": [
       "0"
      ]
     },
     "execution_count": 9,
     "metadata": {},
     "output_type": "execute_result"
    }
   ],
   "source": [
    "df.duplicated().sum()"
   ]
  },
  {
   "cell_type": "markdown",
   "metadata": {},
   "source": [
    "<center> <h3>univariate analysis</center>"
   ]
  },
  {
   "cell_type": "markdown",
   "metadata": {},
   "source": [
    "> Job Title"
   ]
  },
  {
   "cell_type": "code",
   "execution_count": 10,
   "metadata": {},
   "outputs": [
    {
     "data": {
      "text/plain": [
       "0    Data Analyst, Center on Immigration and Justic...\n",
       "1                                 Quality Data Analyst\n",
       "2    Senior Data Analyst, Insights & Analytics Team...\n",
       "3                                         Data Analyst\n",
       "4                               Reporting Data Analyst\n",
       "Name: Job Title, dtype: object"
      ]
     },
     "execution_count": 10,
     "metadata": {},
     "output_type": "execute_result"
    }
   ],
   "source": [
    "df['Job Title'].head()"
   ]
  },
  {
   "cell_type": "markdown",
   "metadata": {},
   "source": [
    "* this is text column so i will convert it to lower case"
   ]
  },
  {
   "cell_type": "code",
   "execution_count": 11,
   "metadata": {},
   "outputs": [],
   "source": [
    "df['Job Title'] =df['Job Title'].str.lower()"
   ]
  },
  {
   "cell_type": "code",
   "execution_count": 12,
   "metadata": {},
   "outputs": [],
   "source": [
    "top10_jobs = df['Job Title'].value_counts().head(10)"
   ]
  },
  {
   "cell_type": "code",
   "execution_count": 13,
   "metadata": {},
   "outputs": [
    {
     "data": {
      "image/png": "[encoded data removed]",
      "text/plain": [
       "<Figure size 1440x432 with 2 Axes>"
      ]
     },
     "metadata": {
      "needs_background": "light"
     },
     "output_type": "display_data"
    }
   ],
   "source": [
    "fig,ax = plt.subplots(1,2,figsize=(20,6))\n",
    "palette_color = sns.color_palette('rocket_r')\n",
    "sns.barplot(y = top10_jobs.index , x = top10_jobs.values,ax=ax[0] , palette=palette_color)\n",
    "\n",
    "explode = [0.1 , 0, 0, 0, 0 , 0 , 0 , 0 , 0 , 0]\n",
    "ax[1].pie(data = top10_jobs ,x= top10_jobs.values ,labels= top10_jobs.index , colors=palette_color, explode=explode, autopct='%.0f%%' )\n",
    "# sns.boxplot(y=df['Age'],ax=ax[2])\n",
    "plt.suptitle(\"top_10 available jobs\",size=20)\n",
    "plt.show()"
   ]
  },
  {
   "cell_type": "code",
   "execution_count": 14,
   "metadata": {},
   "outputs": [
    {
     "data": {
      "text/plain": [
       "data analyst                                                 410\n",
       "senior data analyst                                           92\n",
       "junior data analyst                                           30\n",
       "business data analyst                                         28\n",
       "sr. data analyst                                              21\n",
       "                                                            ... \n",
       "call center data analyst                                       1\n",
       "senior global data analyst / power bi dashboard developer      1\n",
       "data production analyst                                        1\n",
       "manufacturing data analyst - woodridge, il                     1\n",
       "senior quality data analyst                                    1\n",
       "Name: Job Title, Length: 1257, dtype: int64"
      ]
     },
     "execution_count": 14,
     "metadata": {},
     "output_type": "execute_result"
    }
   ],
   "source": [
    "df['Job Title'].value_counts()"
   ]
  },
  {
   "cell_type": "markdown",
   "metadata": {},
   "source": [
    "> Salary Estimate"
   ]
  },
  {
   "cell_type": "code",
   "execution_count": 15,
   "metadata": {},
   "outputs": [
    {
     "data": {
      "text/plain": [
       "0    $37K-$66K (Glassdoor est.)\n",
       "1    $37K-$66K (Glassdoor est.)\n",
       "2    $37K-$66K (Glassdoor est.)\n",
       "3    $37K-$66K (Glassdoor est.)\n",
       "4    $37K-$66K (Glassdoor est.)\n",
       "5    $37K-$66K (Glassdoor est.)\n",
       "6    $37K-$66K (Glassdoor est.)\n",
       "7    $37K-$66K (Glassdoor est.)\n",
       "8    $37K-$66K (Glassdoor est.)\n",
       "9    $37K-$66K (Glassdoor est.)\n",
       "Name: Salary Estimate, dtype: object"
      ]
     },
     "execution_count": 15,
     "metadata": {},
     "output_type": "execute_result"
    }
   ],
   "source": [
    "df['Salary Estimate'].head(10)"
   ]
  },
  {
   "cell_type": "markdown",
   "metadata": {},
   "source": [
    "* now i will separate lower from upper poundries of salaries"
   ]
  },
  {
   "cell_type": "code",
   "execution_count": 16,
   "metadata": {},
   "outputs": [],
   "source": [
    "df[['lower salary' , 'upper salary']] = df['Salary Estimate'].str.split('-',expand=True)"
   ]
  },
  {
   "cell_type": "code",
   "execution_count": 17,
   "metadata": {},
   "outputs": [
    {
     "data": {
      "text/plain": [
       "0    $37K\n",
       "1    $37K\n",
       "2    $37K\n",
       "3    $37K\n",
       "4    $37K\n",
       "Name: lower salary, dtype: object"
      ]
     },
     "execution_count": 17,
     "metadata": {},
     "output_type": "execute_result"
    }
   ],
   "source": [
    "df['lower salary'].head()"
   ]
  },
  {
   "cell_type": "code",
   "execution_count": 18,
   "metadata": {},
   "outputs": [],
   "source": [
    "df['lower salary'] = df['lower salary'].apply(lambda x : x[1:-1])\n",
    "df['lower salary'] = pd.to_numeric(df['lower salary'] ,errors='coerce')"
   ]
  },
  {
   "cell_type": "code",
   "execution_count": 19,
   "metadata": {},
   "outputs": [
    {
     "data": {
      "text/plain": [
       "<seaborn.axisgrid.FacetGrid at 0x1c26cb47250>"
      ]
     },
     "execution_count": 19,
     "metadata": {},
     "output_type": "execute_result"
    },
    {
     "data": {
      "image/png": "[encoded data removed]",
      "text/plain": [
       "<Figure size 360x360 with 1 Axes>"
      ]
     },
     "metadata": {
      "needs_background": "light"
     },
     "output_type": "display_data"
    }
   ],
   "source": [
    "# sns.despine(left=True)\n",
    "sns.displot(df,x='lower salary' , color='#FC785C')\n"
   ]
  },
  {
   "cell_type": "code",
   "execution_count": 20,
   "metadata": {},
   "outputs": [],
   "source": [
    "df['upper salary'] = df['upper salary'].apply(lambda x : x.split('K')[0][1:])\n",
    "df['upper salary'] = pd.to_numeric(df['upper salary'] ,errors='coerce')"
   ]
  },
  {
   "cell_type": "code",
   "execution_count": 21,
   "metadata": {},
   "outputs": [
    {
     "data": {
      "text/plain": [
       "0        66.0\n",
       "1        66.0\n",
       "2        66.0\n",
       "3        66.0\n",
       "4        66.0\n",
       "        ...  \n",
       "2248    104.0\n",
       "2249    104.0\n",
       "2250    104.0\n",
       "2251    104.0\n",
       "2252    104.0\n",
       "Name: upper salary, Length: 2252, dtype: float64"
      ]
     },
     "execution_count": 21,
     "metadata": {},
     "output_type": "execute_result"
    }
   ],
   "source": [
    "df['upper salary']"
   ]
  },
  {
   "cell_type": "code",
   "execution_count": 22,
   "metadata": {},
   "outputs": [
    {
     "data": {
      "text/plain": [
       "<seaborn.axisgrid.FacetGrid at 0x1c24b9462f0>"
      ]
     },
     "execution_count": 22,
     "metadata": {},
     "output_type": "execute_result"
    },
    {
     "data": {
      "image/png": "[encoded data removed]",
      "text/plain": [
       "<Figure size 360x360 with 1 Axes>"
      ]
     },
     "metadata": {
      "needs_background": "light"
     },
     "output_type": "display_data"
    }
   ],
   "source": [
    "sns.displot(df,x='upper salary' , bins =30 , color='#FC785C')\n"
   ]
  },
  {
   "cell_type": "code",
   "execution_count": 23,
   "metadata": {},
   "outputs": [
    {
     "data": {
      "image/png": "[encoded data removed]",
      "text/plain": [
       "<Figure size 864x576 with 2 Axes>"
      ]
     },
     "metadata": {
      "needs_background": "light"
     },
     "output_type": "display_data"
    }
   ],
   "source": [
    "f, axes = plt.subplots(1, 2, figsize=(12, 8))\n",
    "sns.despine(left=True)\n",
    "sns.distplot(df['lower salary'],color = 'darkred',ax = axes[0])\n",
    "sns.distplot(df['upper salary'],color = 'g' , ax = axes[1])\n",
    "plt.show()"
   ]
  },
  {
   "cell_type": "code",
   "execution_count": 24,
   "metadata": {},
   "outputs": [
    {
     "data": {
      "text/plain": [
       "Job Title            0\n",
       "Salary Estimate      0\n",
       "Job Description      0\n",
       "Rating               0\n",
       "Company Name         0\n",
       "Location             0\n",
       "Headquarters         0\n",
       "Size                 0\n",
       "Founded              0\n",
       "Type of ownership    0\n",
       "Industry             0\n",
       "Sector               0\n",
       "Revenue              0\n",
       "Competitors          0\n",
       "Easy Apply           0\n",
       "lower salary         1\n",
       "upper salary         1\n",
       "dtype: int64"
      ]
     },
     "execution_count": 24,
     "metadata": {},
     "output_type": "execute_result"
    }
   ],
   "source": [
    "df.isnull().sum()"
   ]
  },
  {
   "cell_type": "code",
   "execution_count": 25,
   "metadata": {},
   "outputs": [],
   "source": [
    "del df['Salary Estimate']"
   ]
  },
  {
   "cell_type": "markdown",
   "metadata": {},
   "source": [
    "> Rating"
   ]
  },
  {
   "cell_type": "code",
   "execution_count": 26,
   "metadata": {},
   "outputs": [
    {
     "data": {
      "text/plain": [
       "-1.0    271\n",
       " 3.9    140\n",
       " 3.6    135\n",
       " 3.7    132\n",
       " 5.0    131\n",
       " 3.8    130\n",
       " 4.0    129\n",
       " 3.5    125\n",
       " 4.1    119\n",
       " 3.3    109\n",
       " 3.4    101\n",
       " 3.2     91\n",
       " 3.1     68\n",
       " 3.0     57\n",
       " 4.3     55\n",
       " 4.2     47\n",
       " 4.5     47\n",
       " 4.6     46\n",
       " 4.4     46\n",
       " 2.8     43\n",
       " 2.9     40\n",
       " 2.5     32\n",
       " 4.8     29\n",
       " 2.7     25\n",
       " 4.7     23\n",
       " 4.9     17\n",
       " 2.6     14\n",
       " 1.0     10\n",
       " 2.4     10\n",
       " 2.3      9\n",
       " 2.0      6\n",
       " 2.1      4\n",
       " 2.2      3\n",
       " 1.7      2\n",
       " 1.8      2\n",
       " 1.6      2\n",
       " 1.9      2\n",
       "Name: Rating, dtype: int64"
      ]
     },
     "execution_count": 26,
     "metadata": {},
     "output_type": "execute_result"
    }
   ],
   "source": [
    "df['Rating'].value_counts()"
   ]
  },
  {
   "cell_type": "code",
   "execution_count": 27,
   "metadata": {},
   "outputs": [
    {
     "data": {
      "text/plain": [
       "<AxesSubplot:xlabel='Rating', ylabel='Count'>"
      ]
     },
     "execution_count": 27,
     "metadata": {},
     "output_type": "execute_result"
    },
    {
     "data": {
      "image/png": "[encoded data removed]",
      "text/plain": [
       "<Figure size 432x288 with 1 Axes>"
      ]
     },
     "metadata": {
      "needs_background": "light"
     },
     "output_type": "display_data"
    }
   ],
   "source": [
    "\n",
    "sns.histplot(data = df , x='Rating' , color='#FC785C')"
   ]
  },
  {
   "cell_type": "code",
   "execution_count": 28,
   "metadata": {},
   "outputs": [],
   "source": [
    "df.loc[df['Rating']==-1.0 , ['Company Name']] = 0"
   ]
  },
  {
   "cell_type": "markdown",
   "metadata": {},
   "source": [
    "> Company Name"
   ]
  },
  {
   "cell_type": "code",
   "execution_count": 29,
   "metadata": {},
   "outputs": [
    {
     "data": {
      "text/plain": [
       "0             Vera Institute of Justice\\n3.2\n",
       "1    Visiting Nurse Service of New York\\n3.8\n",
       "2                           Squarespace\\n3.4\n",
       "3                              Celerity\\n4.1\n",
       "4                               FanDuel\\n3.9\n",
       "Name: Company Name, dtype: object"
      ]
     },
     "execution_count": 29,
     "metadata": {},
     "output_type": "execute_result"
    }
   ],
   "source": [
    "df['Company Name'].head()"
   ]
  },
  {
   "cell_type": "markdown",
   "metadata": {},
   "source": [
    "* this column have name of company and rate so i will remove rate"
   ]
  },
  {
   "cell_type": "code",
   "execution_count": 30,
   "metadata": {},
   "outputs": [
    {
     "data": {
      "text/plain": [
       "['Vera Institute of Justice', '3.2']"
      ]
     },
     "execution_count": 30,
     "metadata": {},
     "output_type": "execute_result"
    }
   ],
   "source": [
    "df['Company Name'].str.split('\\\\n')[0]"
   ]
  },
  {
   "cell_type": "code",
   "execution_count": 31,
   "metadata": {},
   "outputs": [],
   "source": [
    "def util(x):\n",
    "    try:\n",
    "        return x.split('\\n')[0]\n",
    "    except:\n",
    "        return np.nan"
   ]
  },
  {
   "cell_type": "code",
   "execution_count": 32,
   "metadata": {},
   "outputs": [],
   "source": [
    "df['Company Name'] = df['Company Name'].apply(util)"
   ]
  },
  {
   "cell_type": "markdown",
   "metadata": {},
   "source": [
    "****** top10 companies have highst rate"
   ]
  },
  {
   "cell_type": "code",
   "execution_count": 33,
   "metadata": {},
   "outputs": [
    {
     "data": {
      "image/png": "[encoded data removed]",
      "text/plain": [
       "<Figure size 2160x1440 with 6 Axes>"
      ]
     },
     "metadata": {
      "needs_background": "light"
     },
     "output_type": "display_data"
    }
   ],
   "source": [
    "fig,ax = plt.subplots(3,2, figsize = (30,20))\n",
    "# df.loc[df['Rating']==5.0 , ['Company Name']].value_counts().head(10).to_frame().ax[0][0].plot(ax =ax[1] ,kind ='bar')\n",
    "top_10_companies_rated_5 = df.loc[(df['Rating'] >=4) & (df['Rating']<=5) , ['Company Name']].value_counts().head(10).sort_values(ascending=True)\n",
    "index = [x[0] for x in top_10_companies_rated_5.index.to_list()]\n",
    "ax[0][0].set_title('top_10_companies_rated_5')\n",
    "ax[0][0].barh( index , top_10_companies_rated_5.values , color = '#68FC56')\n",
    "\n",
    "\n",
    "top_10_companies_rated_4 = df.loc[(df['Rating'] >=3) & (df['Rating']<=4) , ['Company Name']].value_counts().head(10).sort_values(ascending=True)\n",
    "index = [x[0] for x in top_10_companies_rated_5.index.to_list()]\n",
    "ax[0][1].set_title('top_10_companies_rated_4')\n",
    "ax[0][1].barh( index , top_10_companies_rated_4.values , color = '#CDCAC9')\n",
    "\n",
    "top_10_companies_rated_3 = df.loc[(df['Rating'] >=2) & (df['Rating']<=3) , ['Company Name']].value_counts().head(10).sort_values(ascending=True)\n",
    "index = [x[0] for x in top_10_companies_rated_3.index.to_list()]\n",
    "ax[1][0].set_title('top_10_companies_rated_3')\n",
    "ax[1][0].barh( index , top_10_companies_rated_3.values , color = '#CDCAC9')\n",
    "\n",
    "top_10_companies_rated_2 = df.loc[(df['Rating'] >=1) & (df['Rating']<=2) , ['Company Name']].value_counts().head(10).sort_values(ascending=True)\n",
    "index = [x[0] for x in top_10_companies_rated_2.index.to_list()]\n",
    "ax[1][1].set_title('top_10_companies_rated_2')\n",
    "ax[1][1].barh( index , top_10_companies_rated_2.values , color = '#CDCAC9')\n",
    "\n",
    "\n",
    "top_10_companies_rated_0 = df.loc[(df['Rating'] >=0) & (df['Rating']<=1) , ['Company Name']].value_counts().head(10)\n",
    "index = [x[0] for x in top_10_companies_rated_0.index.to_list()]\n",
    "ax[2][0].set_title('top_10_companies_rated_-1')\n",
    "ax[2][0].barh( index , top_10_companies_rated_0.values , color='#FC785C')\n",
    "\n",
    "\n",
    "\n",
    "\n",
    "\n",
    "plt.show()"
   ]
  },
  {
   "cell_type": "code",
   "execution_count": 34,
   "metadata": {},
   "outputs": [
    {
     "data": {
      "text/plain": [
       "-1.0    271\n",
       " 3.9    140\n",
       " 3.6    135\n",
       " 3.7    132\n",
       " 5.0    131\n",
       " 3.8    130\n",
       " 4.0    129\n",
       " 3.5    125\n",
       " 4.1    119\n",
       " 3.3    109\n",
       " 3.4    101\n",
       " 3.2     91\n",
       " 3.1     68\n",
       " 3.0     57\n",
       " 4.3     55\n",
       " 4.2     47\n",
       " 4.5     47\n",
       " 4.6     46\n",
       " 4.4     46\n",
       " 2.8     43\n",
       " 2.9     40\n",
       " 2.5     32\n",
       " 4.8     29\n",
       " 2.7     25\n",
       " 4.7     23\n",
       " 4.9     17\n",
       " 2.6     14\n",
       " 1.0     10\n",
       " 2.4     10\n",
       " 2.3      9\n",
       " 2.0      6\n",
       " 2.1      4\n",
       " 2.2      3\n",
       " 1.7      2\n",
       " 1.8      2\n",
       " 1.6      2\n",
       " 1.9      2\n",
       "Name: Rating, dtype: int64"
      ]
     },
     "execution_count": 34,
     "metadata": {},
     "output_type": "execute_result"
    }
   ],
   "source": [
    "df['Rating'].value_counts()"
   ]
  },
  {
   "cell_type": "markdown",
   "metadata": {},
   "source": [
    "****** waht is top 10 companies have stars"
   ]
  },
  {
   "cell_type": "code",
   "execution_count": null,
   "metadata": {},
   "outputs": [],
   "source": []
  },
  {
   "cell_type": "code",
   "execution_count": 35,
   "metadata": {},
   "outputs": [
    {
     "data": {
      "text/plain": [
       "Company Name\n",
       "Staffigo Technical Services, LLC    290.0\n",
       "Diverse Lynx                         85.8\n",
       "Kforce                               77.9\n",
       "Lorven Technologies Inc              76.0\n",
       "Mondo                                54.3\n",
       "Robert Half                          49.0\n",
       "Apple                                41.0\n",
       "Apex Systems                         38.0\n",
       "eTeam Inc.                           37.0\n",
       "APN Software Services Inc.           36.9\n",
       "Name: Rating, dtype: float64"
      ]
     },
     "execution_count": 35,
     "metadata": {},
     "output_type": "execute_result"
    }
   ],
   "source": [
    "df.groupby('Company Name')['Rating'].sum().sort_values(ascending=False).head(10)"
   ]
  },
  {
   "cell_type": "code",
   "execution_count": 36,
   "metadata": {},
   "outputs": [
    {
     "data": {
      "image/png": "[encoded data removed]",
      "text/plain": [
       "<Figure size 1440x432 with 1 Axes>"
      ]
     },
     "metadata": {
      "needs_background": "light"
     },
     "output_type": "display_data"
    }
   ],
   "source": [
    "\n",
    "plt.figure(figsize=(20,6))\n",
    "groubed = df.groupby('Company Name')['Rating'].sum().sort_values(ascending=False).head(10)\n",
    "sns.barplot( x = groubed.index , y = groubed.values , palette='rocket_r')\n",
    "sns.despine(left=True)\n",
    "plt.show()"
   ]
  },
  {
   "cell_type": "code",
   "execution_count": 37,
   "metadata": {},
   "outputs": [
    {
     "data": {
      "text/plain": [
       "['Staffigo Technical Services, LLC',\n",
       " 'Diverse Lynx',\n",
       " 'Kforce',\n",
       " 'Lorven Technologies Inc',\n",
       " 'Mondo',\n",
       " 'Robert Half',\n",
       " 'Apple',\n",
       " 'Apex Systems',\n",
       " 'eTeam Inc.',\n",
       " 'APN Software Services Inc.']"
      ]
     },
     "execution_count": 37,
     "metadata": {},
     "output_type": "execute_result"
    }
   ],
   "source": [
    "groubed.index.to_list()"
   ]
  },
  {
   "cell_type": "markdown",
   "metadata": {},
   "source": [
    "> Location"
   ]
  },
  {
   "cell_type": "code",
   "execution_count": 38,
   "metadata": {},
   "outputs": [
    {
     "data": {
      "text/plain": [
       "0    New York, NY\n",
       "1    New York, NY\n",
       "2    New York, NY\n",
       "3    New York, NY\n",
       "4    New York, NY\n",
       "Name: Location, dtype: object"
      ]
     },
     "execution_count": 38,
     "metadata": {},
     "output_type": "execute_result"
    }
   ],
   "source": [
    "df['Location'].head()"
   ]
  },
  {
   "cell_type": "code",
   "execution_count": 39,
   "metadata": {},
   "outputs": [],
   "source": [
    "count = df['Location'].value_counts().head(10)"
   ]
  },
  {
   "cell_type": "code",
   "execution_count": 40,
   "metadata": {},
   "outputs": [
    {
     "data": {
      "image/png": "[encoded data removed]",
      "text/plain": [
       "<Figure size 2160x432 with 2 Axes>"
      ]
     },
     "metadata": {
      "needs_background": "light"
     },
     "output_type": "display_data"
    }
   ],
   "source": [
    "fig,ax = plt.subplots(1,2,figsize=(30,6))\n",
    "palette_color = sns.color_palette('rocket_r')\n",
    "sns.despine(left=True)\n",
    "sns.barplot(x = count.index , y = count.values,palette=palette_color,ax=ax[0])\n",
    "explode = [0.1 ,0 ,0 ,0 ,0 ,0 ,0 ,0 ,0 ,0 ]\n",
    "ax[1].pie(data = count ,x= count.values ,labels= count.index , colors=palette_color, explode=explode, autopct='%.0f%%')\n",
    "# sns.boxplot(y=df['Age'],ax=ax[2])\n",
    "plt.suptitle(\"top5 locations that have jobs\",size=20)\n",
    "plt.show()"
   ]
  },
  {
   "cell_type": "markdown",
   "metadata": {},
   "source": [
    "> Size"
   ]
  },
  {
   "cell_type": "code",
   "execution_count": 41,
   "metadata": {},
   "outputs": [
    {
     "data": {
      "text/plain": [
       "0      201 to 500 employees\n",
       "1          10000+ employees\n",
       "2    1001 to 5000 employees\n",
       "3      201 to 500 employees\n",
       "4     501 to 1000 employees\n",
       "Name: Size, dtype: object"
      ]
     },
     "execution_count": 41,
     "metadata": {},
     "output_type": "execute_result"
    }
   ],
   "source": [
    "df['Size'].head()"
   ]
  },
  {
   "cell_type": "code",
   "execution_count": 42,
   "metadata": {},
   "outputs": [
    {
     "data": {
      "text/html": [
       "<div>\n",
       "<style scoped>\n",
       "    .dataframe tbody tr th:only-of-type {\n",
       "        vertical-align: middle;\n",
       "    }\n",
       "\n",
       "    .dataframe tbody tr th {\n",
       "        vertical-align: top;\n",
       "    }\n",
       "\n",
       "    .dataframe thead th {\n",
       "        text-align: right;\n",
       "    }\n",
       "</style>\n",
       "<table border=\"1\" class=\"dataframe\">\n",
       "  <thead>\n",
       "    <tr style=\"text-align: right;\">\n",
       "      <th></th>\n",
       "      <th>Job Title</th>\n",
       "      <th>Job Description</th>\n",
       "      <th>Rating</th>\n",
       "      <th>Company Name</th>\n",
       "      <th>Location</th>\n",
       "      <th>Headquarters</th>\n",
       "      <th>Size</th>\n",
       "      <th>Founded</th>\n",
       "      <th>Type of ownership</th>\n",
       "      <th>Industry</th>\n",
       "      <th>Sector</th>\n",
       "      <th>Revenue</th>\n",
       "      <th>Competitors</th>\n",
       "      <th>Easy Apply</th>\n",
       "      <th>lower salary</th>\n",
       "      <th>upper salary</th>\n",
       "    </tr>\n",
       "  </thead>\n",
       "  <tbody>\n",
       "    <tr>\n",
       "      <th>0</th>\n",
       "      <td>data analyst, center on immigration and justic...</td>\n",
       "      <td>Are you eager to roll up your sleeves and harn...</td>\n",
       "      <td>3.2</td>\n",
       "      <td>Vera Institute of Justice</td>\n",
       "      <td>New York, NY</td>\n",
       "      <td>New York, NY</td>\n",
       "      <td>201 to 500 employees</td>\n",
       "      <td>1961</td>\n",
       "      <td>Nonprofit Organization</td>\n",
       "      <td>Social Assistance</td>\n",
       "      <td>Non-Profit</td>\n",
       "      <td>$100 to $500 million (USD)</td>\n",
       "      <td>-1</td>\n",
       "      <td>True</td>\n",
       "      <td>37.0</td>\n",
       "      <td>66.0</td>\n",
       "    </tr>\n",
       "    <tr>\n",
       "      <th>1</th>\n",
       "      <td>quality data analyst</td>\n",
       "      <td>Overview\\n\\nProvides analytical and technical ...</td>\n",
       "      <td>3.8</td>\n",
       "      <td>Visiting Nurse Service of New York</td>\n",
       "      <td>New York, NY</td>\n",
       "      <td>New York, NY</td>\n",
       "      <td>10000+ employees</td>\n",
       "      <td>1893</td>\n",
       "      <td>Nonprofit Organization</td>\n",
       "      <td>Health Care Services &amp; Hospitals</td>\n",
       "      <td>Health Care</td>\n",
       "      <td>$2 to $5 billion (USD)</td>\n",
       "      <td>-1</td>\n",
       "      <td>-1</td>\n",
       "      <td>37.0</td>\n",
       "      <td>66.0</td>\n",
       "    </tr>\n",
       "    <tr>\n",
       "      <th>2</th>\n",
       "      <td>senior data analyst, insights &amp; analytics team...</td>\n",
       "      <td>We’re looking for a Senior Data Analyst who ha...</td>\n",
       "      <td>3.4</td>\n",
       "      <td>Squarespace</td>\n",
       "      <td>New York, NY</td>\n",
       "      <td>New York, NY</td>\n",
       "      <td>1001 to 5000 employees</td>\n",
       "      <td>2003</td>\n",
       "      <td>Company - Private</td>\n",
       "      <td>Internet</td>\n",
       "      <td>Information Technology</td>\n",
       "      <td>Unknown / Non-Applicable</td>\n",
       "      <td>GoDaddy</td>\n",
       "      <td>-1</td>\n",
       "      <td>37.0</td>\n",
       "      <td>66.0</td>\n",
       "    </tr>\n",
       "    <tr>\n",
       "      <th>3</th>\n",
       "      <td>data analyst</td>\n",
       "      <td>Requisition NumberRR-0001939\\nRemote:Yes\\nWe c...</td>\n",
       "      <td>4.1</td>\n",
       "      <td>Celerity</td>\n",
       "      <td>New York, NY</td>\n",
       "      <td>McLean, VA</td>\n",
       "      <td>201 to 500 employees</td>\n",
       "      <td>2002</td>\n",
       "      <td>Subsidiary or Business Segment</td>\n",
       "      <td>IT Services</td>\n",
       "      <td>Information Technology</td>\n",
       "      <td>$50 to $100 million (USD)</td>\n",
       "      <td>-1</td>\n",
       "      <td>-1</td>\n",
       "      <td>37.0</td>\n",
       "      <td>66.0</td>\n",
       "    </tr>\n",
       "    <tr>\n",
       "      <th>4</th>\n",
       "      <td>reporting data analyst</td>\n",
       "      <td>ABOUT FANDUEL GROUP\\n\\nFanDuel Group is a worl...</td>\n",
       "      <td>3.9</td>\n",
       "      <td>FanDuel</td>\n",
       "      <td>New York, NY</td>\n",
       "      <td>New York, NY</td>\n",
       "      <td>501 to 1000 employees</td>\n",
       "      <td>2009</td>\n",
       "      <td>Company - Private</td>\n",
       "      <td>Sports &amp; Recreation</td>\n",
       "      <td>Arts, Entertainment &amp; Recreation</td>\n",
       "      <td>$100 to $500 million (USD)</td>\n",
       "      <td>DraftKings</td>\n",
       "      <td>True</td>\n",
       "      <td>37.0</td>\n",
       "      <td>66.0</td>\n",
       "    </tr>\n",
       "  </tbody>\n",
       "</table>\n",
       "</div>"
      ],
      "text/plain": [
       "                                           Job Title  \\\n",
       "0  data analyst, center on immigration and justic...   \n",
       "1                               quality data analyst   \n",
       "2  senior data analyst, insights & analytics team...   \n",
       "3                                       data analyst   \n",
       "4                             reporting data analyst   \n",
       "\n",
       "                                     Job Description  Rating  \\\n",
       "0  Are you eager to roll up your sleeves and harn...     3.2   \n",
       "1  Overview\\n\\nProvides analytical and technical ...     3.8   \n",
       "2  We’re looking for a Senior Data Analyst who ha...     3.4   \n",
       "3  Requisition NumberRR-0001939\\nRemote:Yes\\nWe c...     4.1   \n",
       "4  ABOUT FANDUEL GROUP\\n\\nFanDuel Group is a worl...     3.9   \n",
       "\n",
       "                         Company Name      Location  Headquarters  \\\n",
       "0           Vera Institute of Justice  New York, NY  New York, NY   \n",
       "1  Visiting Nurse Service of New York  New York, NY  New York, NY   \n",
       "2                         Squarespace  New York, NY  New York, NY   \n",
       "3                            Celerity  New York, NY    McLean, VA   \n",
       "4                             FanDuel  New York, NY  New York, NY   \n",
       "\n",
       "                     Size  Founded               Type of ownership  \\\n",
       "0    201 to 500 employees     1961          Nonprofit Organization   \n",
       "1        10000+ employees     1893          Nonprofit Organization   \n",
       "2  1001 to 5000 employees     2003               Company - Private   \n",
       "3    201 to 500 employees     2002  Subsidiary or Business Segment   \n",
       "4   501 to 1000 employees     2009               Company - Private   \n",
       "\n",
       "                           Industry                            Sector  \\\n",
       "0                 Social Assistance                        Non-Profit   \n",
       "1  Health Care Services & Hospitals                       Health Care   \n",
       "2                          Internet            Information Technology   \n",
       "3                       IT Services            Information Technology   \n",
       "4               Sports & Recreation  Arts, Entertainment & Recreation   \n",
       "\n",
       "                      Revenue Competitors Easy Apply  lower salary  \\\n",
       "0  $100 to $500 million (USD)          -1       True          37.0   \n",
       "1      $2 to $5 billion (USD)          -1         -1          37.0   \n",
       "2    Unknown / Non-Applicable     GoDaddy         -1          37.0   \n",
       "3   $50 to $100 million (USD)          -1         -1          37.0   \n",
       "4  $100 to $500 million (USD)  DraftKings       True          37.0   \n",
       "\n",
       "   upper salary  \n",
       "0          66.0  \n",
       "1          66.0  \n",
       "2          66.0  \n",
       "3          66.0  \n",
       "4          66.0  "
      ]
     },
     "execution_count": 42,
     "metadata": {},
     "output_type": "execute_result"
    }
   ],
   "source": [
    "df.head()"
   ]
  },
  {
   "cell_type": "code",
   "execution_count": 43,
   "metadata": {},
   "outputs": [],
   "source": [
    "count = df['Size'].value_counts()"
   ]
  },
  {
   "cell_type": "code",
   "execution_count": 44,
   "metadata": {},
   "outputs": [],
   "source": [
    "df.loc[(df['Size']=='Unknown') | (df['Size']=='-1'), 'Size'] = np.nan"
   ]
  },
  {
   "cell_type": "code",
   "execution_count": 45,
   "metadata": {},
   "outputs": [
    {
     "data": {
      "text/plain": [
       "51 to 200 employees        421\n",
       "10000+ employees           375\n",
       "1001 to 5000 employees     348\n",
       "1 to 50 employees          347\n",
       "201 to 500 employees       249\n",
       "501 to 1000 employees      211\n",
       "-1                         162\n",
       "5001 to 10000 employees     97\n",
       "Unknown                     42\n",
       "Name: Size, dtype: int64"
      ]
     },
     "execution_count": 45,
     "metadata": {},
     "output_type": "execute_result"
    }
   ],
   "source": [
    "count"
   ]
  },
  {
   "cell_type": "code",
   "execution_count": 46,
   "metadata": {},
   "outputs": [],
   "source": [
    "df['Size'] = df['Size'].str.replace(' employees','')\n",
    "df['Size'] = df['Size'].str.replace('+',' to 10001')"
   ]
  },
  {
   "cell_type": "code",
   "execution_count": 47,
   "metadata": {},
   "outputs": [
    {
     "data": {
      "text/plain": [
       "51 to 200         421\n",
       "10000 to 10001    375\n",
       "1001 to 5000      348\n",
       "1 to 50           347\n",
       "201 to 500        249\n",
       "501 to 1000       211\n",
       "5001 to 10000      97\n",
       "Name: Size, dtype: int64"
      ]
     },
     "execution_count": 47,
     "metadata": {},
     "output_type": "execute_result"
    }
   ],
   "source": [
    "df['Size'].value_counts()"
   ]
  },
  {
   "cell_type": "code",
   "execution_count": 48,
   "metadata": {},
   "outputs": [],
   "source": [
    "df[['lower size','upper size']] = df['Size'].str.split(\"to\",expand=True)"
   ]
  },
  {
   "cell_type": "code",
   "execution_count": 49,
   "metadata": {},
   "outputs": [],
   "source": [
    "df['lower size'] = pd.to_numeric(df['lower size'] , errors='coerce')\n",
    "df['upper size'] = pd.to_numeric(df['upper size'] , errors='coerce')"
   ]
  },
  {
   "cell_type": "code",
   "execution_count": 50,
   "metadata": {},
   "outputs": [
    {
     "data": {
      "image/png": "[encoded data removed]",
      "text/plain": [
       "<Figure size 1800x288 with 2 Axes>"
      ]
     },
     "metadata": {
      "needs_background": "light"
     },
     "output_type": "display_data"
    }
   ],
   "source": [
    "f, axes = plt.subplots(1, 2, figsize=(25, 4) ,sharex=True)\n",
    "sns.boxplot(x = df['lower size'], ax = axes[0] , color='#49BE92');\n",
    "sns.boxplot(x = df['upper size'], ax = axes[1],palette=\"dark:salmon_r\");"
   ]
  },
  {
   "cell_type": "code",
   "execution_count": 51,
   "metadata": {},
   "outputs": [],
   "source": [
    "del df['Size']"
   ]
  },
  {
   "cell_type": "code",
   "execution_count": null,
   "metadata": {},
   "outputs": [],
   "source": []
  },
  {
   "cell_type": "markdown",
   "metadata": {},
   "source": [
    "> Founded"
   ]
  },
  {
   "cell_type": "code",
   "execution_count": 52,
   "metadata": {},
   "outputs": [
    {
     "data": {
      "text/plain": [
       "-1       659\n",
       " 2008     80\n",
       " 2000     54\n",
       " 2002     54\n",
       " 1996     54\n",
       "        ... \n",
       " 1958      1\n",
       " 1885      1\n",
       " 1922      1\n",
       " 1830      1\n",
       " 1898      1\n",
       "Name: Founded, Length: 161, dtype: int64"
      ]
     },
     "execution_count": 52,
     "metadata": {},
     "output_type": "execute_result"
    }
   ],
   "source": [
    "df['Founded'].value_counts()"
   ]
  },
  {
   "cell_type": "code",
   "execution_count": 53,
   "metadata": {},
   "outputs": [],
   "source": [
    "df[df['Founded']==-1] = np.nan"
   ]
  },
  {
   "cell_type": "code",
   "execution_count": 54,
   "metadata": {},
   "outputs": [
    {
     "data": {
      "text/plain": [
       "0     61.0\n",
       "1    129.0\n",
       "2     19.0\n",
       "3     20.0\n",
       "4     13.0\n",
       "Name: Founded, dtype: float64"
      ]
     },
     "execution_count": 54,
     "metadata": {},
     "output_type": "execute_result"
    }
   ],
   "source": [
    "2022 - df['Founded'].head()"
   ]
  },
  {
   "cell_type": "code",
   "execution_count": 55,
   "metadata": {},
   "outputs": [],
   "source": [
    "count = df['Type of ownership'].value_counts().head(10)"
   ]
  },
  {
   "cell_type": "code",
   "execution_count": 56,
   "metadata": {},
   "outputs": [],
   "source": [
    "df.loc[df['Type of ownership'] =='Unknown' , 'Type of ownership'] = np.nan"
   ]
  },
  {
   "cell_type": "code",
   "execution_count": 57,
   "metadata": {},
   "outputs": [
    {
     "data": {
      "image/png": "[encoded data removed]",
      "text/plain": [
       "<Figure size 1800x576 with 2 Axes>"
      ]
     },
     "metadata": {
      "needs_background": "light"
     },
     "output_type": "display_data"
    }
   ],
   "source": [
    "fig , ax= plt.subplots(1,2 , figsize=(25,8))\n",
    "sns.barplot(y = count.index , x = count.values , ax = ax[0] , palette='rocket_r')\n",
    "explode = [0.1 , 0, 0, 0, 0 , 0 , 0 , 0 , 0 , 0 ]\n",
    "ax[1].pie(data = count ,x= np.log(count.values) ,labels= count.index,explode=explode , autopct='%.0f%%')\n",
    "plt.show()"
   ]
  },
  {
   "cell_type": "markdown",
   "metadata": {},
   "source": [
    "> Revenue"
   ]
  },
  {
   "cell_type": "code",
   "execution_count": 58,
   "metadata": {},
   "outputs": [
    {
     "data": {
      "text/plain": [
       "0    $100 to $500 million (USD)\n",
       "1        $2 to $5 billion (USD)\n",
       "2      Unknown / Non-Applicable\n",
       "3     $50 to $100 million (USD)\n",
       "4    $100 to $500 million (USD)\n",
       "Name: Revenue, dtype: object"
      ]
     },
     "execution_count": 58,
     "metadata": {},
     "output_type": "execute_result"
    }
   ],
   "source": [
    "df['Revenue'].head()"
   ]
  },
  {
   "cell_type": "code",
   "execution_count": 59,
   "metadata": {},
   "outputs": [],
   "source": [
    "df['Revenue'] = df['Revenue'].replace('Unknown / Non-Applicable' , np.nan )\n",
    "df['Revenue'] = df['Revenue'].str.replace('million' , '')\n",
    "\n",
    "df['Revenue'] = df['Revenue'].str.replace('(USD)' , '')\n",
    "df['Revenue'] = df['Revenue'].str.replace('(' , '')\n",
    "df['Revenue'] = df['Revenue'].str.replace(')' , '')\n",
    "df['Revenue'] = df['Revenue'].str.replace('$' , '')\n",
    "df['Revenue'] = df['Revenue'].str.replace('Less than 1' , '0 to 1')\n",
    "df['Revenue'] = df['Revenue'].str.replace(' ' , '')\n",
    "\n"
   ]
  },
  {
   "cell_type": "code",
   "execution_count": 60,
   "metadata": {},
   "outputs": [
    {
     "data": {
      "text/plain": [
       "0       100to500\n",
       "1    2to5billion\n",
       "2            NaN\n",
       "3        50to100\n",
       "4       100to500\n",
       "Name: Revenue, dtype: object"
      ]
     },
     "execution_count": 60,
     "metadata": {},
     "output_type": "execute_result"
    }
   ],
   "source": [
    "df['Revenue'].head()"
   ]
  },
  {
   "cell_type": "code",
   "execution_count": 61,
   "metadata": {},
   "outputs": [
    {
     "data": {
      "text/plain": [
       "100to500         207\n",
       "50to100          192\n",
       "10+billion       188\n",
       "2to5billion      127\n",
       "10to25           113\n",
       "25to50            93\n",
       "1to2billion       86\n",
       "500to1billion     75\n",
       "5to10billion      56\n",
       "1to5              49\n",
       "5to10             27\n",
       "0to1              12\n",
       "Name: Revenue, dtype: int64"
      ]
     },
     "execution_count": 61,
     "metadata": {},
     "output_type": "execute_result"
    }
   ],
   "source": [
    "df['Revenue'].value_counts()"
   ]
  },
  {
   "cell_type": "code",
   "execution_count": 62,
   "metadata": {},
   "outputs": [],
   "source": [
    "df['Revenue'] = df['Revenue'].str.replace('billion' , '000')\n",
    "df['Revenue'] = df['Revenue'].replace('10+000' , '10000to11000')\n",
    "\n"
   ]
  },
  {
   "cell_type": "code",
   "execution_count": 63,
   "metadata": {},
   "outputs": [
    {
     "data": {
      "text/plain": [
       "100to500        207\n",
       "50to100         192\n",
       "10000to11000    188\n",
       "2to5000         127\n",
       "10to25          113\n",
       "25to50           93\n",
       "1to2000          86\n",
       "500to1000        75\n",
       "5to10000         56\n",
       "1to5             49\n",
       "5to10            27\n",
       "0to1             12\n",
       "Name: Revenue, dtype: int64"
      ]
     },
     "execution_count": 63,
     "metadata": {},
     "output_type": "execute_result"
    }
   ],
   "source": [
    "df['Revenue'].value_counts()"
   ]
  },
  {
   "cell_type": "code",
   "execution_count": 64,
   "metadata": {},
   "outputs": [],
   "source": [
    "df[['lower Revenue' , 'upper Revenue']] = df['Revenue'].str.split('to' , expand = True)"
   ]
  },
  {
   "cell_type": "code",
   "execution_count": 65,
   "metadata": {},
   "outputs": [
    {
     "data": {
      "text/plain": [
       "100      207\n",
       "50       192\n",
       "10000    188\n",
       "1        135\n",
       "2        127\n",
       "10       113\n",
       "25        93\n",
       "5         83\n",
       "500       75\n",
       "0         12\n",
       "Name: lower Revenue, dtype: int64"
      ]
     },
     "execution_count": 65,
     "metadata": {},
     "output_type": "execute_result"
    }
   ],
   "source": [
    "df['lower Revenue'].value_counts()"
   ]
  },
  {
   "cell_type": "code",
   "execution_count": 66,
   "metadata": {},
   "outputs": [],
   "source": [
    "del df['Revenue']"
   ]
  },
  {
   "cell_type": "markdown",
   "metadata": {},
   "source": [
    "> Competitors"
   ]
  },
  {
   "cell_type": "code",
   "execution_count": 67,
   "metadata": {},
   "outputs": [
    {
     "data": {
      "text/plain": [
       "-1                                                                 1075\n",
       "Robert Half, Insight Global                                          14\n",
       "Adecco, Manpower                                                     14\n",
       "Artech Information Systems, Mindlance, Tech Mahindra                 10\n",
       "Google, Microsoft, Samsung Electronics                               10\n",
       "                                                                   ... \n",
       "Carr Riggs & Ingram, Cherry Bekaert, LBMC                             1\n",
       "Transnational Foods, One Source Distributors                          1\n",
       "Fiserv, First Data, Jack Henry & Associates                           1\n",
       "Booz Allen Hamilton, Abt Associates, Oliver Wyman                     1\n",
       "Centura Health, HealthONE, Denver Health and Hospital Authority       1\n",
       "Name: Competitors, Length: 288, dtype: int64"
      ]
     },
     "execution_count": 67,
     "metadata": {},
     "output_type": "execute_result"
    }
   ],
   "source": [
    "df['Competitors'].value_counts()"
   ]
  },
  {
   "cell_type": "code",
   "execution_count": 68,
   "metadata": {},
   "outputs": [],
   "source": [
    "nulls_percentage = round(df.loc[df['Competitors'] == '-1' , 'Job Title'].count() / len(df['Competitors']) * 100 , 2)"
   ]
  },
  {
   "cell_type": "code",
   "execution_count": 69,
   "metadata": {},
   "outputs": [
    {
     "name": "stdout",
     "output_type": "stream",
     "text": [
      "47.74 %\n"
     ]
    }
   ],
   "source": [
    "print(f'{nulls_percentage} %')"
   ]
  },
  {
   "cell_type": "code",
   "execution_count": 70,
   "metadata": {},
   "outputs": [],
   "source": [
    "del df['Competitors']"
   ]
  },
  {
   "cell_type": "markdown",
   "metadata": {},
   "source": [
    "> Easy Apply"
   ]
  },
  {
   "cell_type": "code",
   "execution_count": 71,
   "metadata": {},
   "outputs": [
    {
     "data": {
      "text/plain": [
       "-1      1519\n",
       "True      74\n",
       "Name: Easy Apply, dtype: int64"
      ]
     },
     "execution_count": 71,
     "metadata": {},
     "output_type": "execute_result"
    }
   ],
   "source": [
    "df['Easy Apply'].value_counts()"
   ]
  },
  {
   "cell_type": "code",
   "execution_count": 72,
   "metadata": {},
   "outputs": [],
   "source": [
    "nulls_percentage = round(df.loc[df['Easy Apply'] == '-1' , 'Easy Apply'].count() / len(df['Easy Apply']) * 100 , 2)"
   ]
  },
  {
   "cell_type": "code",
   "execution_count": 73,
   "metadata": {},
   "outputs": [
    {
     "name": "stdout",
     "output_type": "stream",
     "text": [
      "67.45 %\n"
     ]
    }
   ],
   "source": [
    "print(f'{nulls_percentage} %')"
   ]
  },
  {
   "cell_type": "markdown",
   "metadata": {},
   "source": [
    "easy Apply column have 67.45 % nulls but i cant drop it couse it is target column so it will be a semi suppervised problem"
   ]
  },
  {
   "cell_type": "code",
   "execution_count": 74,
   "metadata": {},
   "outputs": [
    {
     "data": {
      "text/plain": [
       "data analyst                       270\n",
       "senior data analyst                 72\n",
       "junior data analyst                 30\n",
       "business data analyst               19\n",
       "data analyst junior                 17\n",
       "                                  ... \n",
       "data transformation analyst          1\n",
       "jr. data analyst                     1\n",
       "urgent need - data analyst           1\n",
       "business systems & data analyst      1\n",
       "senior quality data analyst          1\n",
       "Name: Job Title, Length: 943, dtype: int64"
      ]
     },
     "execution_count": 74,
     "metadata": {},
     "output_type": "execute_result"
    }
   ],
   "source": [
    "df['Job Title'].value_counts()"
   ]
  },
  {
   "cell_type": "markdown",
   "metadata": {},
   "source": [
    "> solve all problems in note"
   ]
  },
  {
   "cell_type": "code",
   "execution_count": 75,
   "metadata": {},
   "outputs": [],
   "source": [
    "df.loc[df['Job Title'] == 'data analyst junior' , 'Job Title'] = 'junior data analyst'"
   ]
  },
  {
   "cell_type": "code",
   "execution_count": 76,
   "metadata": {},
   "outputs": [],
   "source": [
    "from sklearn.impute import KNNImputer\n",
    "df[['Founded' , 'lower Revenue' , 'upper Revenue']] = KNNImputer(n_neighbors=5).fit_transform(df[['Founded' , 'lower Revenue' , 'upper Revenue']])"
   ]
  },
  {
   "cell_type": "code",
   "execution_count": 77,
   "metadata": {},
   "outputs": [],
   "source": [
    "from sklearn.impute import SimpleImputer\n",
    "df[['lower salary','upper salary','Type of ownership']] = SimpleImputer(strategy='most_frequent').fit_transform(df[['lower salary','upper salary','Type of ownership']])"
   ]
  },
  {
   "cell_type": "code",
   "execution_count": null,
   "metadata": {},
   "outputs": [],
   "source": []
  },
  {
   "cell_type": "code",
   "execution_count": null,
   "metadata": {},
   "outputs": [],
   "source": []
  },
  {
   "cell_type": "markdown",
   "metadata": {},
   "source": [
    "__Note__\n",
    "\n",
    "- &#x2611; Job Title column have (junior data analyst) and (data analyst junior) \n",
    "- lower and upper salary values by ( k )\n",
    "- &#x2611; in Rating column have -1 value and no 0\n",
    "- &#x2611; in Size column nulls\n",
    "- &#x2611;Founded have nulls\n",
    "- &#x2611;Type of ownership have nulls\n",
    "- &#x2611;Revenue have nulls\n",
    "- Revenue is million unit\n",
    "- &#x2611; Competitors column have 47.74 % nulls so i will drop it"
   ]
  }
 ],
 "metadata": {
  "kernelspec": {
   "display_name": "Python 3.10.5 64-bit",
   "language": "python",
   "name": "python3"
  },
  "language_info": {
   "codemirror_mode": {
    "name": "ipython",
    "version": 3
   },
   "file_extension": ".py",
   "mimetype": "text/x-python",
   "name": "python",
   "nbconvert_exporter": "python",
   "pygments_lexer": "ipython3",
   "version": "3.10.5"
  },
  "orig_nbformat": 4,
  "vscode": {
   "interpreter": {
    "hash": "3165eb73e81506be9642a860ceb367db037d914c8edf1ce15dd258b028b64a1e"
   }
  }
 },
 "nbformat": 4,
 "nbformat_minor": 2
}
